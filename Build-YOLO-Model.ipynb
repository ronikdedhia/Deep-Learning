{
 "cells": [
  {
   "cell_type": "markdown",
   "metadata": {},
   "source": [
    "# **BUILD YOLO MODEL**\n",
    "FROM SCRATCH, USING TENSORFLOW=2.0"
   ]
  },
  {
   "cell_type": "markdown",
   "metadata": {},
   "source": []
  },
  {
   "cell_type": "code",
   "execution_count": 1,
   "metadata": {},
   "outputs": [],
   "source": [
    "import numpy as np\n",
    "import cv2\n",
    "\n",
    "import tensorflow as tf\n",
    "import tensorflow.keras.backend as K\n",
    "\n",
    "from tensorflow.keras.layers import Input, Conv2D, Add, ZeroPadding2D, UpSampling2D, Concatenate, MaxPooling2D\n",
    "from tensorflow.keras.layers import LeakyReLU, BatchNormalization\n",
    "from tensorflow.keras.models import Sequential, Model\n",
    "from tensorflow.keras.regularizers import l2\n",
    "from tensorflow.keras.utils import plot_model, model_to_dot"
   ]
  },
  {
   "cell_type": "markdown",
   "metadata": {},
   "source": [
    "Acknowledgement:\n",
    "- Thanks to the authors of the YOLO.\n",
    "- Many ideas for implementation are derived from [qqwweee](https://github.com/qqwweee/keras-yolo3/blob/master/yolo3/model.py)."
   ]
  },
  {
   "cell_type": "markdown",
   "metadata": {},
   "source": [
    "## **YOLO Architecture**"
   ]
  },
  {
   "cell_type": "markdown",
   "metadata": {},
   "source": [
    "### **Conv Block**\n",
    "<img src=\"../extras/graphics/yolo_conv_block.jpg\" alt=\"Conv Block\" width=\"250\" align=\"left\"/>"
   ]
  },
  {
   "cell_type": "code",
   "execution_count": 2,
   "metadata": {},
   "outputs": [],
   "source": [
    "def yolo_ConvBlock (input_tensor, num_filters, filter_size, strides = (1,1) ):\n",
    "    padding = 'valid' if strides == (2,2) else 'same'\n",
    "    \n",
    "    '''Layers'''\n",
    "    x = Conv2D( num_filters, filter_size, strides, padding, use_bias=False, kernel_regularizer=l2(5e-4) ) (input_tensor)\n",
    "    x = BatchNormalization() (x)\n",
    "    x = LeakyReLU(alpha=0.1) (x)\n",
    "    \n",
    "    return x"
   ]
  },
  {
   "cell_type": "markdown",
   "metadata": {},
   "source": [
    "### **Residual Block**\n",
    "<img src=\"../extras/graphics/yolo_residual_block.jpg\" alt=\"Residual Block\" width=\"600\" align=\"left\"/>"
   ]
  },
  {
   "cell_type": "code",
   "execution_count": 3,
   "metadata": {},
   "outputs": [],
   "source": [
    "def yolo_ResidualBlocks (input_tensor, num_filters, num_blocks ):\n",
    "    \n",
    "    '''Layers'''\n",
    "    x = ZeroPadding2D( ((1,0),(1,0)) ) (input_tensor) # left & top padding\n",
    "    x = yolo_ConvBlock ( x, num_filters, filter_size=(3,3), strides = (2,2) )\n",
    "    for _ in range( num_blocks ):\n",
    "        y = yolo_ConvBlock ( x, num_filters//2, filter_size=(1,1), strides = (1,1) )\n",
    "        y = yolo_ConvBlock ( y, num_filters   , filter_size=(3,3), strides = (1,1) )\n",
    "        x = Add() ([x, y])\n",
    "    \n",
    "    return x"
   ]
  },
  {
   "cell_type": "markdown",
   "metadata": {},
   "source": [
    "### **Output Block**\n",
    "<img src=\"../extras/graphics/yolo_output_block.jpg\" alt=\"Conv Block\" width=\"500\" align=\"left\"/>"
   ]
  },
  {
   "cell_type": "code",
   "execution_count": 4,
   "metadata": {},
   "outputs": [],
   "source": [
    "def yolo_OutputBlock (x, num_filters, out_filters ):\n",
    "    \n",
    "    '''Layers'''\n",
    "    x = yolo_ConvBlock ( x, 1*num_filters, filter_size=(1,1), strides = (1,1) )\n",
    "    x = yolo_ConvBlock ( x, 2*num_filters, filter_size=(3,3), strides = (1,1) )\n",
    "    x = yolo_ConvBlock ( x, 1*num_filters, filter_size=(1,1), strides = (1,1) )\n",
    "    x = yolo_ConvBlock ( x, 2*num_filters, filter_size=(3,3), strides = (1,1) )\n",
    "    x = yolo_ConvBlock ( x, 1*num_filters, filter_size=(1,1), strides = (1,1) )\n",
    "    \n",
    "    y = yolo_ConvBlock ( x, 2*num_filters, filter_size=(3,3), strides = (1,1) )\n",
    "    y = Conv2D ( filters=out_filters, kernel_size=(1,1), strides=(1,1), \n",
    "                padding='same', use_bias=True, kernel_regularizer=l2(5e-4) )(y)\n",
    "    \n",
    "    return x, y"
   ]
  },
  {
   "cell_type": "markdown",
   "metadata": {},
   "source": [
    "### **The Complete Model**\n",
    "<img src=\"../extras/graphics/yolo_complete.jpg\" alt=\"Conv Block\" width=\"1000\" align=\"left\"/>"
   ]
  },
  {
   "cell_type": "code",
   "execution_count": 5,
   "metadata": {},
   "outputs": [],
   "source": [
    "def yolo_body (input_tensor, num_out_filters):\n",
    "    '''\n",
    "    Input: \n",
    "        input_tensor   = Input( shape=( *input_shape, 3 ) )\n",
    "        num_out_filter = ( num_anchors // 3 ) * ( 5 + num_classes )\n",
    "    Output:\n",
    "        complete YOLO-v3 model\n",
    "    '''\n",
    "\n",
    "    # 1st Conv block\n",
    "    x = yolo_ConvBlock( input_tensor, num_filters=32, filter_size=(3,3), strides=(1,1) )\n",
    "\n",
    "    # 5 Resblocks\n",
    "    x = yolo_ResidualBlocks ( x, num_filters=  64, num_blocks=1 )\n",
    "    x = yolo_ResidualBlocks ( x, num_filters= 128, num_blocks=2 )\n",
    "    x = yolo_ResidualBlocks ( x, num_filters= 256, num_blocks=8 )\n",
    "    x = yolo_ResidualBlocks ( x, num_filters= 512, num_blocks=8 )\n",
    "    x = yolo_ResidualBlocks ( x, num_filters=1024, num_blocks=4 )\n",
    "\n",
    "    darknet = Model( input_tensor, x ) # will use it just in a moment\n",
    "\n",
    "    # 1st output block\n",
    "    x, y1 = yolo_OutputBlock( x, num_filters= 512, out_filters=num_out_filters )\n",
    "\n",
    "    # 2nd output block\n",
    "    x = yolo_ConvBlock( x, num_filters=256, filter_size=(1,1), strides=(1,1) )\n",
    "    x = UpSampling2D(2) (x)\n",
    "    x = Concatenate() ( [x, darknet.layers[152].output] )\n",
    "    x, y2 = yolo_OutputBlock( x, num_filters= 256, out_filters=num_out_filters )\n",
    "\n",
    "    # 3rd output block\n",
    "    x = yolo_ConvBlock( x, num_filters=128, filter_size=(1,1), strides=(1,1) )\n",
    "    x = UpSampling2D(2) (x)\n",
    "    x = Concatenate() ( [x, darknet.layers[92].output] )\n",
    "    x, y3 = yolo_OutputBlock( x, num_filters= 128, out_filters=num_out_filters )\n",
    "\n",
    "    # Final model\n",
    "    model = Model( input_tensor, [y1, y2, y3] )\n",
    "    \n",
    "    return model"
   ]
  },
  {
   "cell_type": "markdown",
   "metadata": {},
   "source": [
    "## **EXAMPLE**"
   ]
  },
  {
   "cell_type": "markdown",
   "metadata": {},
   "source": [
    "#### Build a model"
   ]
  },
  {
   "cell_type": "code",
   "execution_count": 6,
   "metadata": {},
   "outputs": [
    {
     "name": "stdout",
     "output_type": "stream",
     "text": [
      "model is built!\n"
     ]
    }
   ],
   "source": [
    "# configurations\n",
    "input_shape = (416, 416)\n",
    "num_classes = 3\n",
    "num_anchors = 9\n",
    "\n",
    "# input and output\n",
    "input_tensor = Input( shape=(input_shape[0], input_shape[1], 3) ) # Input\n",
    "num_out_filters = ( num_anchors//3 ) * ( 5 + num_classes )        # Output\n",
    "\n",
    "# build the model\n",
    "model = yolo_body (input_tensor, num_out_filters)\n",
    "\n",
    "print('model is built!')"
   ]
  },
  {
   "cell_type": "markdown",
   "metadata": {},
   "source": [
    "#### Check if a pre-trained weight can be loaded"
   ]
  },
  {
   "cell_type": "code",
   "execution_count": 7,
   "metadata": {},
   "outputs": [
    {
     "name": "stdout",
     "output_type": "stream",
     "text": [
      "weights are loaded!\n"
     ]
    }
   ],
   "source": [
    "# check if trained weights can be loaded onto the model\n",
    "\n",
    "weight_path = '../model-data/weights/pictor-ppe-v302-a1-yolo-v3-weights.h5'\n",
    "model.load_weights( weight_path )\n",
    "\n",
    "print('weights are loaded!')"
   ]
  },
  {
   "cell_type": "code",
   "execution_count": null,
   "metadata": {},
   "outputs": [],
   "source": []
  }
 ],
 "metadata": {
  "kernelspec": {
   "display_name": "Python 3",
   "language": "python",
   "name": "python3"
  },
  "language_info": {
   "codemirror_mode": {
    "name": "ipython",
    "version": 3
   },
   "file_extension": ".py",
   "mimetype": "text/x-python",
   "name": "python",
   "nbconvert_exporter": "python",
   "pygments_lexer": "ipython3",
   "version": "3.8.5"
  }
 },
 "nbformat": 4,
 "nbformat_minor": 4
}
